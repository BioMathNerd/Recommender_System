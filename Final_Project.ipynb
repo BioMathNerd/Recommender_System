{
 "cells": [
  {
   "cell_type": "code",
   "execution_count": 1,
   "id": "ca1016d1",
   "metadata": {},
   "outputs": [],
   "source": [
    "import pandas as pd\n",
    "import numpy as np\n",
    "import matplotlib.pyplot as plt\n",
    "import seaborn as sns\n",
    "from sklearn.decomposition import PCA\n",
    "from sklearn import preprocessing\n",
    "from sklearn.cluster import KMeans, AgglomerativeClustering\n",
    "import plotly.express as px\n",
    "from sklearn.metrics.pairwise import cosine_similarity\n",
    "import spacy\n",
    "import time\n",
    "import h5py\n",
    "import pickle\n",
    "import csv"
   ]
  },
  {
   "cell_type": "code",
   "execution_count": 147,
   "id": "32f20742",
   "metadata": {},
   "outputs": [],
   "source": []
  },
  {
   "cell_type": "code",
   "execution_count": 2,
   "id": "591b4dee",
   "metadata": {},
   "outputs": [],
   "source": [
    "df = pd.read_csv(\"/Users/jpate/Downloads/netflix_titles.csv\")"
   ]
  },
  {
   "cell_type": "code",
   "execution_count": 3,
   "id": "b5f2d933",
   "metadata": {},
   "outputs": [],
   "source": [
    "df = df.dropna(axis = 0)"
   ]
  },
  {
   "cell_type": "code",
   "execution_count": 4,
   "id": "45d13a88",
   "metadata": {},
   "outputs": [],
   "source": [
    "df = df[df[\"release_year\"]>=2000]"
   ]
  },
  {
   "cell_type": "code",
   "execution_count": 5,
   "id": "eae4571c",
   "metadata": {},
   "outputs": [],
   "source": [
    "df = df[(df[\"rating\"] != \"NC-17\") & (df[\"rating\"] != \"UR\") & (df[\"rating\"] != \"TV-Y7-FV\")]"
   ]
  },
  {
   "cell_type": "code",
   "execution_count": 6,
   "id": "95ce2297",
   "metadata": {},
   "outputs": [],
   "source": [
    "df = df.reset_index(drop=True)"
   ]
  },
  {
   "cell_type": "code",
   "execution_count": 7,
   "id": "a3c6f8b0",
   "metadata": {},
   "outputs": [],
   "source": [
    "df.to_csv('idk.csv')"
   ]
  },
  {
   "cell_type": "code",
   "execution_count": 8,
   "id": "b9e1e0fe",
   "metadata": {},
   "outputs": [],
   "source": [
    "df_titles = df.copy()"
   ]
  },
  {
   "cell_type": "code",
   "execution_count": 9,
   "id": "60ad2981",
   "metadata": {},
   "outputs": [],
   "source": [
    "df_titles = df_titles.drop(['show_id','director','cast','country','date_added', 'release_year','type','rating','duration','listed_in','description'], axis=1)"
   ]
  },
  {
   "cell_type": "code",
   "execution_count": 10,
   "id": "9af96cbd",
   "metadata": {},
   "outputs": [],
   "source": [
    "titles = df_titles.to_dict()"
   ]
  },
  {
   "cell_type": "code",
   "execution_count": 11,
   "id": "fa85a875",
   "metadata": {},
   "outputs": [],
   "source": [
    "titles = titles['title']"
   ]
  },
  {
   "cell_type": "code",
   "execution_count": 13,
   "id": "953584bf",
   "metadata": {},
   "outputs": [],
   "source": [
    "nlp = spacy.load('en_core_web_lg')"
   ]
  },
  {
   "cell_type": "code",
   "execution_count": 124,
   "id": "fe244aa6",
   "metadata": {},
   "outputs": [],
   "source": [
    "similarities = {}"
   ]
  },
  {
   "cell_type": "code",
   "execution_count": 31,
   "id": "d105a564",
   "metadata": {},
   "outputs": [],
   "source": [
    "def func():\n",
    "    for i, row in df.iterrows():\n",
    "        doc = nlp(row['description'])\n",
    "        #similarities[i] = {}\n",
    "        test[i]={}\n",
    "#     print(row['title'])\n",
    "        for j, row2 in df.iterrows():\n",
    "            doc2 = nlp(row2['description'])\n",
    "        #print(f\"{row['title']} x {row2['title']}: {doc.similarity(doc2):.10f}\")\n",
    "        #similarities[i][j] = doc.similarity(doc2)\n",
    "            test[i][j] = doc.similarity(doc2)"
   ]
  },
  {
   "cell_type": "code",
   "execution_count": 19,
   "id": "cfefe5a1",
   "metadata": {},
   "outputs": [],
   "source": [
    "def lookup_by_title(title):\n",
    "    for title_id in titles:\n",
    "        if titles[title_id] == title:\n",
    "            return title_id\n",
    "    return None"
   ]
  },
  {
   "cell_type": "code",
   "execution_count": 20,
   "id": "2a163ebb",
   "metadata": {},
   "outputs": [],
   "source": [
    "def lookup(title1, title2):\n",
    "    return similarities[lookup_by_title(title1)][lookup_by_title(title2)]"
   ]
  },
  {
   "cell_type": "code",
   "execution_count": 370,
   "id": "cbdeb10b",
   "metadata": {},
   "outputs": [],
   "source": [
    "import pickle\n",
    "\n",
    "# define dictionary\n",
    "\n",
    "# create a binary pickle file \n",
    "f = open(\"dict.pkl\",\"wb\")\n",
    "\n",
    "# write the python object (dict) to pickle file\n",
    "pickle.dump(new_dict,f)\n",
    "\n",
    "# close file\n",
    "f.close()"
   ]
  },
  {
   "cell_type": "code",
   "execution_count": 14,
   "id": "bc9b77ab",
   "metadata": {},
   "outputs": [],
   "source": [
    "infile = open('dict.pkl','rb')\n",
    "similarities = pickle.load(infile)\n",
    "infile.close()"
   ]
  },
  {
   "cell_type": "code",
   "execution_count": 32,
   "id": "bc6d798d",
   "metadata": {},
   "outputs": [
    {
     "ename": "TypeError",
     "evalue": "__call__() takes 2 positional arguments but 3 were given",
     "output_type": "error",
     "traceback": [
      "\u001b[0;31m---------------------------------------------------------------------------\u001b[0m",
      "\u001b[0;31mTypeError\u001b[0m                                 Traceback (most recent call last)",
      "\u001b[0;32m/var/folders/tw/zw6t1r65653627d6yhcc6pt80000gn/T/ipykernel_1558/2078144611.py\u001b[0m in \u001b[0;36m<module>\u001b[0;34m\u001b[0m\n\u001b[0;32m----> 1\u001b[0;31m \u001b[0mfunc\u001b[0m\u001b[0;34m(\u001b[0m\u001b[0;34m)\u001b[0m\u001b[0;34m\u001b[0m\u001b[0;34m\u001b[0m\u001b[0m\n\u001b[0m",
      "\u001b[0;32m/var/folders/tw/zw6t1r65653627d6yhcc6pt80000gn/T/ipykernel_1558/1064573329.py\u001b[0m in \u001b[0;36mfunc\u001b[0;34m()\u001b[0m\n\u001b[1;32m      1\u001b[0m \u001b[0;32mdef\u001b[0m \u001b[0mfunc\u001b[0m\u001b[0;34m(\u001b[0m\u001b[0;34m)\u001b[0m\u001b[0;34m:\u001b[0m\u001b[0;34m\u001b[0m\u001b[0;34m\u001b[0m\u001b[0m\n\u001b[1;32m      2\u001b[0m     \u001b[0;32mfor\u001b[0m \u001b[0mi\u001b[0m\u001b[0;34m,\u001b[0m \u001b[0mrow\u001b[0m \u001b[0;32min\u001b[0m \u001b[0mdf\u001b[0m\u001b[0;34m.\u001b[0m\u001b[0miterrows\u001b[0m\u001b[0;34m(\u001b[0m\u001b[0;34m)\u001b[0m\u001b[0;34m:\u001b[0m\u001b[0;34m\u001b[0m\u001b[0;34m\u001b[0m\u001b[0m\n\u001b[0;32m----> 3\u001b[0;31m         \u001b[0mdoc\u001b[0m \u001b[0;34m=\u001b[0m \u001b[0mnlp\u001b[0m\u001b[0;34m(\u001b[0m\u001b[0mrow\u001b[0m\u001b[0;34m[\u001b[0m\u001b[0;34m'description'\u001b[0m\u001b[0;34m]\u001b[0m\u001b[0;34m,\u001b[0m\u001b[0;34m[\u001b[0m\u001b[0;34m'cast'\u001b[0m\u001b[0;34m]\u001b[0m\u001b[0;34m)\u001b[0m\u001b[0;34m\u001b[0m\u001b[0;34m\u001b[0m\u001b[0m\n\u001b[0m\u001b[1;32m      4\u001b[0m         \u001b[0;31m#similarities[i] = {}\u001b[0m\u001b[0;34m\u001b[0m\u001b[0;34m\u001b[0m\u001b[0m\n\u001b[1;32m      5\u001b[0m         \u001b[0mtest\u001b[0m\u001b[0;34m[\u001b[0m\u001b[0mi\u001b[0m\u001b[0;34m]\u001b[0m\u001b[0;34m=\u001b[0m\u001b[0;34m{\u001b[0m\u001b[0;34m}\u001b[0m\u001b[0;34m\u001b[0m\u001b[0;34m\u001b[0m\u001b[0m\n",
      "\u001b[0;31mTypeError\u001b[0m: __call__() takes 2 positional arguments but 3 were given"
     ]
    }
   ],
   "source": [
    "func()"
   ]
  },
  {
   "cell_type": "code",
   "execution_count": 21,
   "id": "f1c71422",
   "metadata": {},
   "outputs": [],
   "source": [
    "from heapq import nlargest\n",
    "def recommend(item_title):\n",
    "    six_largest = nlargest(6, \n",
    "                            similarities[lookup_by_title(item_title)], \n",
    "                            key=similarities[lookup_by_title(item_title)].get)\n",
    "    six_largest.pop(0)\n",
    "    for x in six_largest:\n",
    "        print(titles[x])"
   ]
  },
  {
   "cell_type": "code",
   "execution_count": 23,
   "id": "59d66c9d",
   "metadata": {},
   "outputs": [
    {
     "name": "stdout",
     "output_type": "stream",
     "text": [
      "Shopkins: Chef Club\n",
      "Belgica\n",
      "Tune in for Love\n",
      "Berlin Calling\n",
      "Maacher Jhol\n"
     ]
    }
   ],
   "source": [
    "recommend('The Great British Baking Show')"
   ]
  },
  {
   "cell_type": "code",
   "execution_count": null,
   "id": "84188424",
   "metadata": {},
   "outputs": [],
   "source": []
  },
  {
   "cell_type": "code",
   "execution_count": null,
   "id": "54afb6b8",
   "metadata": {},
   "outputs": [],
   "source": []
  },
  {
   "cell_type": "code",
   "execution_count": null,
   "id": "8a17c42a",
   "metadata": {},
   "outputs": [],
   "source": []
  },
  {
   "cell_type": "code",
   "execution_count": null,
   "id": "5010bfef",
   "metadata": {},
   "outputs": [],
   "source": []
  },
  {
   "cell_type": "code",
   "execution_count": 23,
   "id": "7becf51a",
   "metadata": {},
   "outputs": [],
   "source": []
  },
  {
   "cell_type": "code",
   "execution_count": 17,
   "id": "c4192d3a",
   "metadata": {},
   "outputs": [],
   "source": []
  },
  {
   "cell_type": "code",
   "execution_count": null,
   "id": "ecb375ea",
   "metadata": {},
   "outputs": [],
   "source": [
    " "
   ]
  },
  {
   "cell_type": "code",
   "execution_count": null,
   "id": "95c93c06",
   "metadata": {},
   "outputs": [],
   "source": []
  },
  {
   "cell_type": "code",
   "execution_count": null,
   "id": "0c37a7ca",
   "metadata": {},
   "outputs": [],
   "source": []
  },
  {
   "cell_type": "code",
   "execution_count": null,
   "id": "3dccb7bc",
   "metadata": {},
   "outputs": [],
   "source": []
  },
  {
   "cell_type": "code",
   "execution_count": null,
   "id": "8f1ee6cd",
   "metadata": {},
   "outputs": [],
   "source": []
  }
 ],
 "metadata": {
  "kernelspec": {
   "display_name": "Python 3 (ipykernel)",
   "language": "python",
   "name": "python3"
  },
  "language_info": {
   "codemirror_mode": {
    "name": "ipython",
    "version": 3
   },
   "file_extension": ".py",
   "mimetype": "text/x-python",
   "name": "python",
   "nbconvert_exporter": "python",
   "pygments_lexer": "ipython3",
   "version": "3.9.7"
  }
 },
 "nbformat": 4,
 "nbformat_minor": 5
}
